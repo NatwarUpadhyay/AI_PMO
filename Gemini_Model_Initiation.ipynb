{
 "cells": [
  {
   "cell_type": "code",
   "execution_count": null,
   "metadata": {},
   "outputs": [],
   "source": [
    "import os\n",
    "import random\n",
    "from typing import List, Dict\n",
    "import google.generativeai as genai\n",
    "\n",
    "# Set up the Gemini API\n",
    "os.environ[\"GOOGLE_API_KEY\"] = \"Your_API_KEY\"\n",
    "genai.configure(api_key=os.environ[\"GOOGLE_API_KEY\"])\n",
    "\n",
    "# Initialize the Gemini model\n",
    "model = genai.GenerativeModel('gemini-pro')"
   ]
  }
 ],
 "metadata": {
  "kernelspec": {
   "display_name": "Python 3",
   "language": "python",
   "name": "python3"
  },
  "language_info": {
   "name": "python",
   "version": "3.10.0"
  }
 },
 "nbformat": 4,
 "nbformat_minor": 2
}
